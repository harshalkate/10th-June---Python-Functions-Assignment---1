{
  "nbformat": 4,
  "nbformat_minor": 0,
  "metadata": {
    "colab": {
      "provenance": []
    },
    "kernelspec": {
      "name": "python3",
      "display_name": "Python 3"
    },
    "language_info": {
      "name": "python"
    }
  },
  "cells": [
    {
      "cell_type": "markdown",
      "source": [
        "Q1. In Python, what is the difference between a built-in function and a user-defined function? Provide an\n",
        "example of each."
      ],
      "metadata": {
        "id": "Ex4BvHjqArTj"
      }
    },
    {
      "cell_type": "markdown",
      "source": [
        "Ans: built-in function: Built-in functions are pre-defined functions provided by Python's standard library. These functions are readily available for use without the need for explicit definition or import.\n",
        "Examples: Common examples of built-in functions include print(), len(), range(), abs(), type(), and many others.\n",
        "\n",
        "user-defined function: User-defined functions are functions created by the programmer to perform specific tasks. These functions are defined using the def keyword followed by the function name and parentheses."
      ],
      "metadata": {
        "id": "7wo-fdXXA0HE"
      }
    },
    {
      "cell_type": "code",
      "source": [
        "print(\"Hello, World!\")  # Using the built-in print() function"
      ],
      "metadata": {
        "colab": {
          "base_uri": "https://localhost:8080/"
        },
        "id": "B0dMkN4VBZGw",
        "outputId": "1ddc4c55-bf56-4343-d31f-66ff94c5cd5f"
      },
      "execution_count": 1,
      "outputs": [
        {
          "output_type": "stream",
          "name": "stdout",
          "text": [
            "Hello, World!\n"
          ]
        }
      ]
    },
    {
      "cell_type": "code",
      "source": [
        "# Using the user-defined function\n",
        "def greet(name):\n",
        "    return f\"Hello, {name}!\"\n",
        "print(greet(\"Harshal\"))"
      ],
      "metadata": {
        "colab": {
          "base_uri": "https://localhost:8080/"
        },
        "id": "4i59BUF3BfYp",
        "outputId": "6298591b-6c01-4c45-918f-9c057e97b0ad"
      },
      "execution_count": 2,
      "outputs": [
        {
          "output_type": "stream",
          "name": "stdout",
          "text": [
            "Hello, Harshal!\n"
          ]
        }
      ]
    },
    {
      "cell_type": "markdown",
      "source": [
        "Q.2 How can you pass arguments to a function in Python? Explain the difference between positional arguments and keyword arguments\n",
        "\n",
        "Ans: Arguments are specified after the function name, inside the parentheses. You can add as many arguments as you want, just separate them with a comma."
      ],
      "metadata": {
        "id": "fw6e1cfXBsu6"
      }
    },
    {
      "cell_type": "code",
      "source": [
        "\"\"\"\n",
        "Ans.2\n",
        "Positional Arguments: Positional arguments are arguments that are passed to a function\n",
        "in a specific order. The position of each argument\n",
        "in the function call determines which parameter it corresponds to.\n",
        "\"\"\"\n",
        "#Example:\n",
        "def greet(name, age):\n",
        "    print(f\"Hello, {name}! You are {age} years old.\")\n",
        "\n",
        "# Calling the function with positional arguments\n",
        "greet(\"Harshal\", 23)"
      ],
      "metadata": {
        "colab": {
          "base_uri": "https://localhost:8080/"
        },
        "id": "7dH5oggCCIu5",
        "outputId": "ed898dd0-26d6-4075-be90-9c168efabef0"
      },
      "execution_count": 5,
      "outputs": [
        {
          "output_type": "stream",
          "name": "stdout",
          "text": [
            "Hello, Harshal! You are 23 years old.\n"
          ]
        }
      ]
    },
    {
      "cell_type": "code",
      "source": [
        "\"\"\"\n",
        "Ans.2\n",
        "Keyword Arguments: Keyword arguments are passed to a function by explicitly specifying the parameter name\n",
        "and the corresponding value. This allows you to pass arguments in any order.\n",
        "\"\"\"\n",
        "#Example:\n",
        "\n",
        "def greet(name, age):\n",
        "    print(f\"Hello, {name}! You are {age} years old.\")\n",
        "\n",
        "greet(name=\"Bob\", age=25)\n",
        "greet(age=26, name=\"Carol\")"
      ],
      "metadata": {
        "colab": {
          "base_uri": "https://localhost:8080/"
        },
        "id": "d4dhn8GaDetl",
        "outputId": "597de511-0e9f-4179-d6f3-13fd44285acf"
      },
      "execution_count": 8,
      "outputs": [
        {
          "output_type": "stream",
          "name": "stdout",
          "text": [
            "Hello, Bob! You are 25 years old.\n",
            "Hello, Carol! You are 26 years old.\n"
          ]
        }
      ]
    },
    {
      "cell_type": "markdown",
      "source": [
        "Q3. What is the purpose of the return statement in a function? Can a function have multiple return statements? Explain with an example.\n",
        "\n",
        "Ans:Yes, a function can indeed have multiple return statements. When a return statement is encountered, the function immediately exits and returns the specified value. Having multiple return statements allows you to conditionally return different values based on certain conditions within the function.\n"
      ],
      "metadata": {
        "id": "-vIKocQ6D5Lz"
      }
    },
    {
      "cell_type": "code",
      "source": [
        "def compare_numbers(a, b):\n",
        "    if a > b:\n",
        "        return f\"{a} is greater than {b}\"\n",
        "    elif a < b:\n",
        "        return f\"{a} is less than {b}\"\n",
        "    else:\n",
        "        return f\"{a} is equal to {b}\"\n",
        "\n",
        "#  examples\n",
        "print(compare_numbers(5, 3))   # Output: \"5 is greater than 3\"\n",
        "print(compare_numbers(3, 5))   # Output: \"3 is less than 5\"\n",
        "print(compare_numbers(4, 4))   # Output: \"4 is equal to 4\""
      ],
      "metadata": {
        "colab": {
          "base_uri": "https://localhost:8080/"
        },
        "id": "_Xu1vYGWD9BD",
        "outputId": "fba6af1e-3313-40d1-fe4b-bf892cf44366"
      },
      "execution_count": 7,
      "outputs": [
        {
          "output_type": "stream",
          "name": "stdout",
          "text": [
            "5 is greater than 3\n",
            "3 is less than 5\n",
            "4 is equal to 4\n"
          ]
        }
      ]
    },
    {
      "cell_type": "markdown",
      "source": [
        "Q4. What are lambda functions in Python? How are they different from regular functions? Provide an example where a lambda function can be useful.\n",
        "\n",
        "Ans:Lambda functions, also known as anonymous functions or lambda expressions, are a way of creating small, unnamed functions in Python. They are defined using the lambda keyword, which takes any number of arguments and a single expression. Lambda functions are typically used for short functions where defining a separate function using def would be overkill."
      ],
      "metadata": {
        "id": "XC9g8dtuEV4t"
      }
    },
    {
      "cell_type": "code",
      "source": [
        "numbers = [1, 2, 3, 4, 5]\n",
        "\n",
        "# Using map() with a lambda function to square each number\n",
        "squared_numbers = map(lambda x: x ** 2, numbers)\n",
        "\n",
        "print(list(squared_numbers))\n"
      ],
      "metadata": {
        "colab": {
          "base_uri": "https://localhost:8080/"
        },
        "id": "a-xE9IOZEt0P",
        "outputId": "6253bb08-f316-4f25-ca9f-fcb923af3123"
      },
      "execution_count": 9,
      "outputs": [
        {
          "output_type": "stream",
          "name": "stdout",
          "text": [
            "[1, 4, 9, 16, 25]\n"
          ]
        }
      ]
    },
    {
      "cell_type": "markdown",
      "source": [
        "Q5. How does the concept of \"scope\" apply to functions in Python? Explain the difference between local scope and global scope.\n",
        "\n",
        "Ans:In Python, the concept of \"scope\" refers to the visibility and accessibility of variables within different parts of a program. The scope of a variable determines where in the code that variable can be accessed and modified.\n",
        "Difference between is Variables with global scope are available from all other scopes within the JavaScript code. Variables with local scope are available only within a specific local context and are created by keywords, such as var , let , and const ."
      ],
      "metadata": {
        "id": "OxVnxDXdEzHg"
      }
    },
    {
      "cell_type": "markdown",
      "source": [
        "Q.6. How can you use the \"return\" statement in a Python function to return multiple values?\n",
        "\n",
        "Ans:It is possible for a Python function to return multiple values. To To accomplish this, we can combine the desired return values together into a list or a tuple, which we then return. Alternately, we can simply list the return values in the return statement, separated them by commas."
      ],
      "metadata": {
        "id": "5z8a9HgNFWRz"
      }
    },
    {
      "cell_type": "markdown",
      "source": [
        "Q.7 What is the difference between the \"pass by value\" and \"pass by reference\" concepts when it\n",
        "comes to function arguments in Python?\n",
        "\n",
        "Ans:When you pass function arguments by reference, those arguments are only references to existing values. In contrast, when you pass arguments by value, those arguments become independent copies of the original values."
      ],
      "metadata": {
        "id": "frR015TeFnMa"
      }
    },
    {
      "cell_type": "markdown",
      "source": [
        "Q8. Create a function that can intake integer or decimal value and do following operations:\n",
        "\n",
        "a. Logarithmic function (log x)\n",
        "\n",
        "b. Exponential function (exp(x))\n",
        "\n",
        "c.Power function with base 2(2x)\n",
        "\n",
        "d. Square root"
      ],
      "metadata": {
        "id": "Hf9LK6zCF2_w"
      }
    },
    {
      "cell_type": "code",
      "source": [
        "## creating the required function\n",
        "import math\n",
        "\n",
        "def math_operations(x):\n",
        "    results = {\n",
        "        'logarithmic': math.log(x),\n",
        "        'exponential': math.exp(x),\n",
        "        'power_of_2': 2 ** x,\n",
        "        'square_root': math.sqrt(x)\n",
        "    }\n",
        "    return results\n",
        "\n",
        "# Example of the code and the  usage:\n",
        "number = 4\n",
        "operations_result = math_operations(number)\n",
        "\n",
        "print(f\"Logarithmic function (log {number}): {operations_result['logarithmic']}\")\n",
        "print(f\"Exponential function (exp({number})): {operations_result['exponential']}\")\n",
        "print(f\"Power function with base 2 (2^{number}): {operations_result['power_of_2']}\")\n",
        "print(f\"Square root of {number}: {operations_result['square_root']}\")\n"
      ],
      "metadata": {
        "colab": {
          "base_uri": "https://localhost:8080/"
        },
        "id": "FRPCkAkLGV4f",
        "outputId": "0a557f91-20a2-4987-ef5f-96b97abb95ac"
      },
      "execution_count": 11,
      "outputs": [
        {
          "output_type": "stream",
          "name": "stdout",
          "text": [
            "Logarithmic function (log 4): 1.3862943611198906\n",
            "Exponential function (exp(4)): 54.598150033144236\n",
            "Power function with base 2 (2^4): 16\n",
            "Square root of 4: 2.0\n"
          ]
        }
      ]
    },
    {
      "cell_type": "markdown",
      "source": [],
      "metadata": {
        "id": "2cblP_dPENNe"
      }
    },
    {
      "cell_type": "markdown",
      "source": [
        "Q.9 Create a function that takes a full name as an argument and returns first name and last name."
      ],
      "metadata": {
        "id": "hbIEUzDiGtOD"
      }
    },
    {
      "cell_type": "code",
      "source": [
        "# creating the function\n",
        "\n",
        "def extract_first_last_name(full_name):\n",
        "    # Split the full name into components based on spaces\n",
        "    name_parts = full_name.split()\n",
        "\n",
        "    # Extract the first name and last name\n",
        "    f_name = name_parts[0]\n",
        "    l_name = name_parts[-1]\n",
        "\n",
        "    return f_name, l_name\n",
        "\n",
        "# Example of the above code and the usage:\n",
        "full_name = \"Harshal kate\"\n",
        "f_name, l_name = extract_first_last_name(full_name)\n",
        "print(\"First Name:\", f_name)\n",
        "print(\"Last Name:\",l_name)\n"
      ],
      "metadata": {
        "colab": {
          "base_uri": "https://localhost:8080/"
        },
        "id": "obfbepT3Gzk7",
        "outputId": "9fd9bb95-8f6d-410a-d28d-756a54e59174"
      },
      "execution_count": 15,
      "outputs": [
        {
          "output_type": "stream",
          "name": "stdout",
          "text": [
            "First Name: Harshal\n",
            "Last Name: kate\n"
          ]
        }
      ]
    }
  ]
}